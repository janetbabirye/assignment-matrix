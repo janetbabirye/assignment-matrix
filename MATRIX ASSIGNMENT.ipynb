{
 "cells": [
  {
   "cell_type": "code",
   "execution_count": 1,
   "id": "10190887",
   "metadata": {},
   "outputs": [],
   "source": [
    "import numpy as np"
   ]
  },
  {
   "cell_type": "markdown",
   "id": "0d837806",
   "metadata": {},
   "source": [
    " Go and collect data about a shopping curt,\n",
    " i.Create a matrix of tomatoes,onions,garlic,carrots\n",
    " ii.Create another matrix for the amount;\n",
    " after;(a) Multipy\n",
    " (b) transpose one of the matrix and multipy\n",
    " (c) Multiply the two by an identity matrix\n",
    " (d) Check to see if they are linear dependent or independent\n",
    " (e) Find the determinant"
   ]
  },
  {
   "cell_type": "code",
   "execution_count": 32,
   "id": "ac119bca",
   "metadata": {},
   "outputs": [
    {
     "name": "stdout",
     "output_type": "stream",
     "text": [
      "[[1 2 3 2]\n",
      " [5 1 0 2]\n",
      " [3 5 3 5]\n",
      " [1 3 1 2]]\n"
     ]
    },
    {
     "data": {
      "text/plain": [
       "2"
      ]
     },
     "execution_count": 32,
     "metadata": {},
     "output_type": "execute_result"
    }
   ],
   "source": [
    "# matrix of items\n",
    "B = np.array([1,2,3,2,5,1,0,2,3,5,3,5,1,3,1,2])\n",
    "items = B.reshape(4,4)\n",
    "print(items)\n",
    "np.ndim(items)"
   ]
  },
  {
   "cell_type": "code",
   "execution_count": 33,
   "id": "fb470ea3",
   "metadata": {},
   "outputs": [
    {
     "name": "stdout",
     "output_type": "stream",
     "text": [
      "[[200]\n",
      " [100]\n",
      " [100]\n",
      " [150]]\n"
     ]
    },
    {
     "data": {
      "text/plain": [
       "1"
      ]
     },
     "execution_count": 33,
     "metadata": {},
     "output_type": "execute_result"
    }
   ],
   "source": [
    "# matrix of prices\n",
    "Prices = np.array([200,100,100,150])\n",
    "print(Prices.reshape(4,1))\n",
    "np.ndim(Prices)\n"
   ]
  },
  {
   "cell_type": "code",
   "execution_count": 34,
   "id": "b341674e",
   "metadata": {},
   "outputs": [
    {
     "data": {
      "text/plain": [
       "array([1000, 1400, 2150,  900])"
      ]
     },
     "execution_count": 34,
     "metadata": {},
     "output_type": "execute_result"
    }
   ],
   "source": [
    "# multiply matries\n",
    "np.matmul(items,Prices)"
   ]
  },
  {
   "cell_type": "code",
   "execution_count": 41,
   "id": "c9fb5fb9",
   "metadata": {},
   "outputs": [
    {
     "name": "stdout",
     "output_type": "stream",
     "text": [
      "[[1 5 3 1]\n",
      " [2 1 5 3]\n",
      " [3 0 3 1]\n",
      " [2 2 5 2]]\n"
     ]
    }
   ],
   "source": [
    "# transpose\n",
    "matrix_T=(np.transpose(items))\n",
    "print(matrix_T)"
   ]
  },
  {
   "cell_type": "code",
   "execution_count": 31,
   "id": "aee62bfd",
   "metadata": {},
   "outputs": [
    {
     "data": {
      "text/plain": [
       "array([[18, 11, 32, 14],\n",
       "       [11, 30, 30, 12],\n",
       "       [32, 30, 68, 31],\n",
       "       [14, 12, 31, 15]])"
      ]
     },
     "execution_count": 31,
     "metadata": {},
     "output_type": "execute_result"
    }
   ],
   "source": [
    "#multiplying with the transposed one\n",
    "items@matrix_T\n"
   ]
  },
  {
   "cell_type": "code",
   "execution_count": 35,
   "id": "3dd5c9c8",
   "metadata": {},
   "outputs": [
    {
     "name": "stdout",
     "output_type": "stream",
     "text": [
      "[[1. 0. 0. 0.]\n",
      " [0. 1. 0. 0.]\n",
      " [0. 0. 1. 0.]\n",
      " [0. 0. 0. 1.]]\n"
     ]
    }
   ],
   "source": [
    "# an identity matrix\n",
    "identity_m=np.eye(4,4)\n",
    "print(identity_m)"
   ]
  },
  {
   "cell_type": "code",
   "execution_count": 36,
   "id": "9235af29",
   "metadata": {},
   "outputs": [
    {
     "data": {
      "text/plain": [
       "array([[1., 2., 3., 2.],\n",
       "       [5., 1., 0., 2.],\n",
       "       [3., 5., 3., 5.],\n",
       "       [1., 3., 1., 2.]])"
      ]
     },
     "execution_count": 36,
     "metadata": {},
     "output_type": "execute_result"
    }
   ],
   "source": [
    "#multipling with the identity matrix\n",
    "items@identity_m"
   ]
  },
  {
   "cell_type": "code",
   "execution_count": 42,
   "id": "5c3832de",
   "metadata": {},
   "outputs": [
    {
     "data": {
      "text/plain": [
       "array([[1., 5., 3., 1.],\n",
       "       [2., 1., 5., 3.],\n",
       "       [3., 0., 3., 1.],\n",
       "       [2., 2., 5., 2.]])"
      ]
     },
     "execution_count": 42,
     "metadata": {},
     "output_type": "execute_result"
    }
   ],
   "source": [
    "# multipling the identity and transposed matrix\n",
    "identity_m@matrix_T"
   ]
  },
  {
   "cell_type": "code",
   "execution_count": 43,
   "id": "64340c5c",
   "metadata": {},
   "outputs": [
    {
     "data": {
      "text/plain": [
       "-31.0"
      ]
     },
     "execution_count": 43,
     "metadata": {},
     "output_type": "execute_result"
    }
   ],
   "source": [
    "#determinate of a matrix of items\n",
    "np.linalg.det(items)"
   ]
  },
  {
   "cell_type": "code",
   "execution_count": 44,
   "id": "2b22963a",
   "metadata": {},
   "outputs": [
    {
     "data": {
      "text/plain": [
       "-30.999999999999986"
      ]
     },
     "execution_count": 44,
     "metadata": {},
     "output_type": "execute_result"
    }
   ],
   "source": [
    "#determinant of a transposed matrix\n",
    "np.linalg.det(matrix_T)"
   ]
  },
  {
   "cell_type": "code",
   "execution_count": null,
   "id": "d9be4c92",
   "metadata": {},
   "outputs": [],
   "source": [
    "# THEREFORE MATRIX OF ITEMS AND THE TRANSPOSED MATRIX ARE LINEARLY INDEPENDENT BECAUSE THERE DETERMINANTS ARE LESS THAN ZERO."
   ]
  }
 ],
 "metadata": {
  "kernelspec": {
   "display_name": "Python 3",
   "language": "python",
   "name": "python3"
  },
  "language_info": {
   "codemirror_mode": {
    "name": "ipython",
    "version": 3
   },
   "file_extension": ".py",
   "mimetype": "text/x-python",
   "name": "python",
   "nbconvert_exporter": "python",
   "pygments_lexer": "ipython3",
   "version": "3.8.8"
  }
 },
 "nbformat": 4,
 "nbformat_minor": 5
}
